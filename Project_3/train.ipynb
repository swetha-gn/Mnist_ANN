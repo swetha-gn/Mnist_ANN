{
 "cells": [
  {
   "cell_type": "code",
   "execution_count": 65,
   "metadata": {},
   "outputs": [
    {
     "name": "stdout",
     "output_type": "stream",
     "text": [
      "Training data shape: (60000, 28, 28)\n",
      "Test data shape: (10000, 28, 28)\n",
      "Training labels shape: (60000,)\n",
      "Test labels shape: (10000,)\n"
     ]
    }
   ],
   "source": [
    "\n",
    "from tensorflow.keras.datasets import mnist\n",
    "\n",
    "# Step 1: Load the MNIST data\n",
    "(x_train, y_train), (x_test, y_test) = mnist.load_data()\n",
    "\n",
    "print(\"Training data shape:\", x_train.shape)\n",
    "print(\"Test data shape:\", x_test.shape)\n",
    "print(\"Training labels shape:\", y_train.shape)\n",
    "print(\"Test labels shape:\", y_test.shape)\n"
   ]
  },
  {
   "cell_type": "code",
   "execution_count": 66,
   "metadata": {},
   "outputs": [
    {
     "name": "stdout",
     "output_type": "stream",
     "text": [
      "MNIST dataset saved as .npy files in /Users/swethagendlurnagarajan/data:\n",
      "x_train.npy, y_train.npy, x_test.npy, y_test.npy\n"
     ]
    }
   ],
   "source": [
    "import os\n",
    "import numpy as np\n",
    "from tensorflow.keras.datasets import mnist\n",
    "\n",
    "# Step 1: Load the MNIST dataset\n",
    "(x_train, y_train), (x_test, y_test) = mnist.load_data()\n",
    "\n",
    "# Step 2: Flatten the images (28x28 -> 784) for saving\n",
    "x_train = x_train.reshape(x_train.shape[0], -1)  # Flatten training images\n",
    "x_test = x_test.reshape(x_test.shape[0], -1)    # Flatten test images\n",
    "\n",
    "\n",
    "save_dir = os.path.expanduser(\"~/data\")  \n",
    "\n",
    "\n",
    "np.save(os.path.join(save_dir, 'x_train.npy'), x_train)\n",
    "np.save(os.path.join(save_dir, 'y_train.npy'), y_train)\n",
    "np.save(os.path.join(save_dir, 'x_test.npy'), x_test)\n",
    "np.save(os.path.join(save_dir, 'y_test.npy'), y_test)\n",
    "\n",
    "print(f\"MNIST dataset saved as .npy files in {save_dir}:\")\n",
    "print(\"x_train.npy, y_train.npy, x_test.npy, y_test.npy\")"
   ]
  },
  {
   "cell_type": "code",
   "execution_count": 67,
   "metadata": {},
   "outputs": [
    {
     "name": "stdout",
     "output_type": "stream",
     "text": [
      "Flattened training shape: (60000, 784)\n",
      "Flattened test shape: (10000, 784)\n"
     ]
    }
   ],
   "source": [
    "import numpy as np\n",
    "import os\n",
    "\n",
    "# Step 1: Load the saved .npy files\n",
    "save_dir = os.path.expanduser(\"~/data\")  \n",
    "x_train = np.load(os.path.join(save_dir, 'x_train.npy'))\n",
    "y_train = np.load(os.path.join(save_dir, 'y_train.npy'))\n",
    "x_test = np.load(os.path.join(save_dir, 'x_test.npy'))\n",
    "y_test = np.load(os.path.join(save_dir, 'y_test.npy'))\n",
    "\n",
    "# Step 2: Normalize and flatten images\n",
    "x_train_flat = x_train.astype(\"float32\") / 255.0\n",
    "x_test_flat = x_test.astype(\"float32\") / 255.0\n",
    "\n",
    "# Flatten each image (28x28 = 784)\n",
    "x_train_flat = x_train_flat.reshape((x_train_flat.shape[0], -1))\n",
    "x_test_flat = x_test_flat.reshape((x_test_flat.shape[0], -1))\n",
    "\n",
    "print(\"Flattened training shape:\", x_train_flat.shape)\n",
    "print(\"Flattened test shape:\", x_test_flat.shape)"
   ]
  },
  {
   "cell_type": "code",
   "execution_count": 69,
   "metadata": {},
   "outputs": [],
   "source": [
    "from tensorflow.keras.utils import to_categorical\n",
    "\n",
    "y_train_cat = to_categorical(y_train, 10)\n",
    "y_test_cat = to_categorical(y_test, 10)\n"
   ]
  },
  {
   "cell_type": "code",
   "execution_count": 70,
   "metadata": {},
   "outputs": [
    {
     "name": "stdout",
     "output_type": "stream",
     "text": [
      "EDA Summary for MNIST (Subset)\n",
      "Training set size: 1000\n",
      "Test set size: 200\n",
      "Image shape: (28, 28, 1)\n",
      "Number of classes: 10\n",
      "Classes: ['0 - zero', '1 - one', '2 - two', '3 - three', '4 - four', '5 - five', '6 - six', '7 - seven', '8 - eight', '9 - nine']\n",
      "Training label distribution:\n",
      "0     97\n",
      "1    116\n",
      "2     99\n",
      "3     93\n",
      "4    105\n",
      "5     92\n",
      "6     94\n",
      "7    117\n",
      "8     87\n",
      "9    100\n",
      "dtype: int64\n",
      "Test label distribution:\n",
      "0    17\n",
      "1    28\n",
      "2    16\n",
      "3    16\n",
      "4    28\n",
      "5    20\n",
      "6    20\n",
      "7    24\n",
      "8    10\n",
      "9    21\n",
      "dtype: int64\n",
      "Pixel value range (train): min=0, max=255\n"
     ]
    }
   ],
   "source": [
    "\n",
    "import torchvision\n",
    "import torchvision.transforms as transforms\n",
    "import numpy as np\n",
    "import pandas as pd\n",
    "import matplotlib.pyplot as plt\n",
    "\n",
    "# Define a basic transform\n",
    "transform = transforms.Compose([transforms.ToTensor()])\n",
    "\n",
    "trainset = torchvision.datasets.MNIST(root='/tmp', train=True, download=True, transform=transform)\n",
    "testset = torchvision.datasets.MNIST(root='/tmp', train=False, download=True, transform=transform)\n",
    "\n",
    "train_subset = [trainset[i] for i in range(1000)]\n",
    "test_subset = [testset[i] for i in range(200)]\n",
    "\n",
    "# Extract image data and labels\n",
    "x_train = np.stack([np.array(img.permute(1, 2, 0)) * 255 for img, _ in train_subset]).astype(np.uint8)\n",
    "y_train = np.array([label for _, label in train_subset])\n",
    "x_test = np.stack([np.array(img.permute(1, 2, 0)) * 255 for img, _ in test_subset]).astype(np.uint8)\n",
    "y_test = np.array([label for _, label in test_subset])\n",
    "\n",
    "# Class names\n",
    "class_names = trainset.classes\n",
    "\n",
    "\n",
    "print(\"EDA Summary for MNIST (Subset)\")\n",
    "\n",
    "print(f\"Training set size: {x_train.shape[0]}\")\n",
    "print(f\"Test set size: {x_test.shape[0]}\")\n",
    "print(f\"Image shape: {x_train.shape[1:]}\")\n",
    "print(f\"Number of classes: {len(np.unique(y_train))}\")\n",
    "print(f\"Classes: {class_names}\")\n",
    "print(\"Training label distribution:\")\n",
    "print(pd.Series(y_train).value_counts().sort_index())\n",
    "print(\"Test label distribution:\")\n",
    "print(pd.Series(y_test).value_counts().sort_index())\n",
    "print(f\"Pixel value range (train): min={x_train.min()}, max={x_train.max()}\")\n"
   ]
  },
  {
   "cell_type": "code",
   "execution_count": 29,
   "metadata": {},
   "outputs": [
    {
     "data": {
      "image/png": "[encoded data removed]",
      "text/plain": [
       "<Figure size 1000x2000 with 50 Axes>"
      ]
     },
     "metadata": {},
     "output_type": "display_data"
    },
    {
     "data": {
      "image/png": "[encoded data removed]",
      "text/plain": [
       "<Figure size 800x600 with 1 Axes>"
      ]
     },
     "metadata": {},
     "output_type": "display_data"
    },
    {
     "data": {
      "image/png": "[encoded data removed]",
      "text/plain": [
       "<Figure size 800x600 with 1 Axes>"
      ]
     },
     "metadata": {},
     "output_type": "display_data"
    }
   ],
   "source": [
    "import torchvision\n",
    "import torchvision.transforms as transforms\n",
    "import numpy as np\n",
    "import pandas as pd\n",
    "import matplotlib.pyplot as plt\n",
    "\n",
    "# Define a basic transform\n",
    "transform = transforms.Compose([transforms.ToTensor()])\n",
    "\n",
    "trainset = torchvision.datasets.MNIST(root='/tmp', train=True, download=True, transform=transform)\n",
    "testset = torchvision.datasets.MNIST(root='/tmp', train=False, download=True, transform=transform)\n",
    "\n",
    "train_subset = [trainset[i] for i in range(1000)]\n",
    "test_subset = [testset[i] for i in range(200)]\n",
    "\n",
    "# Extract image data and labels\n",
    "x_train = np.stack([np.array(img.permute(1, 2, 0)) * 255 for img, _ in train_subset]).astype(np.uint8)\n",
    "y_train = np.array([label for _, label in train_subset])\n",
    "x_test = np.stack([np.array(img.permute(1, 2, 0)) * 255 for img, _ in test_subset]).astype(np.uint8)\n",
    "y_test = np.array([label for _, label in test_subset])\n",
    "\n",
    "# Class names\n",
    "class_names = trainset.classes\n",
    "\n",
    "# 1. Sample images from each class (5 images per class)\n",
    "def visualize_mnist_samples(X, y, class_names, samples_per_class=5):\n",
    "    num_classes = len(class_names)\n",
    "    plt.figure(figsize=(samples_per_class * 2, num_classes * 2))\n",
    "    for cls_idx in range(num_classes):\n",
    "        idxs = np.where(y == cls_idx)[0]\n",
    "        idxs = np.random.choice(idxs, samples_per_class, replace=False)\n",
    "        for i, idx in enumerate(idxs):\n",
    "            plt.subplot(num_classes, samples_per_class, cls_idx * samples_per_class + i + 1)\n",
    "            plt.imshow(X[idx], cmap='gray')\n",
    "            plt.axis('off')\n",
    "            if i == 0:\n",
    "                plt.title(class_names[cls_idx])\n",
    "    plt.tight_layout()\n",
    "    plt.show()\n",
    "\n",
    "visualize_mnist_samples(x_train, y_train, class_names)\n",
    "\n",
    "# 2. Distribution of labels in the training set (bar chart)\n",
    "plt.figure(figsize=(8, 6))\n",
    "plt.bar(np.unique(y_train), pd.Series(y_train).value_counts().sort_index())\n",
    "plt.xlabel('Digit Class')\n",
    "plt.ylabel('Frequency')\n",
    "plt.title('Distribution of Digits in the Training Set')\n",
    "plt.xticks(np.arange(10))\n",
    "plt.show()\n",
    "\n",
    "# 3. Pixel value histogram for the first training image\n",
    "plt.figure(figsize=(8, 6))\n",
    "plt.hist(x_train[0].flatten(), bins=30, color='gray', edgecolor='black')\n",
    "plt.xlabel('Pixel Value')\n",
    "plt.ylabel('Frequency')\n",
    "plt.title('Pixel Value Distribution of First Training Image')\n",
    "plt.show()\n"
   ]
  },
  {
   "cell_type": "code",
   "execution_count": null,
   "metadata": {},
   "outputs": [
    {
     "name": "stdout",
     "output_type": "stream",
     "text": [
      "Epoch 1/10\n"
     ]
    },
    {
     "name": "stderr",
     "output_type": "stream",
     "text": [
      "/Users/anaconda3/envs/aml/lib/python3.12/site-packages/keras/src/layers/reshaping/flatten.py:37: UserWarning: Do not pass an `input_shape`/`input_dim` argument to a layer. When using Sequential models, prefer using an `Input(shape)` object as the first layer in the model instead.\n",
      "  super().__init__(**kwargs)\n",
      "/Users/anaconda3/envs/aml/lib/python3.12/site-packages/tensorflow/python/data/ops/structured_function.py:258: UserWarning: Even though the `tf.config.experimental_run_functions_eagerly` option is set, this option does not apply to tf.data functions. To force eager execution of tf.data functions, please use `tf.data.experimental.enable_debug_mode()`.\n",
      "  warnings.warn(\n"
     ]
    },
    {
     "name": "stdout",
     "output_type": "stream",
     "text": [
      "844/844 - 11s - 13ms/step - accuracy: 0.9117 - loss: 0.3136 - val_accuracy: 0.9527 - val_loss: 0.1634\n",
      "Epoch 2/10\n",
      "844/844 - 10s - 12ms/step - accuracy: 0.9575 - loss: 0.1471 - val_accuracy: 0.9637 - val_loss: 0.1197\n",
      "Epoch 3/10\n",
      "844/844 - 10s - 12ms/step - accuracy: 0.9697 - loss: 0.1043 - val_accuracy: 0.9672 - val_loss: 0.1043\n",
      "Epoch 4/10\n",
      "844/844 - 9s - 11ms/step - accuracy: 0.9772 - loss: 0.0775 - val_accuracy: 0.9685 - val_loss: 0.1057\n",
      "Epoch 5/10\n",
      "844/844 - 9s - 11ms/step - accuracy: 0.9815 - loss: 0.0622 - val_accuracy: 0.9730 - val_loss: 0.0852\n",
      "Epoch 6/10\n",
      "844/844 - 9s - 11ms/step - accuracy: 0.9853 - loss: 0.0493 - val_accuracy: 0.9767 - val_loss: 0.0788\n",
      "Epoch 7/10\n",
      "844/844 - 9s - 11ms/step - accuracy: 0.9879 - loss: 0.0407 - val_accuracy: 0.9752 - val_loss: 0.0781\n",
      "Epoch 8/10\n",
      "844/844 - 9s - 11ms/step - accuracy: 0.9906 - loss: 0.0324 - val_accuracy: 0.9730 - val_loss: 0.0861\n",
      "Epoch 9/10\n",
      "844/844 - 9s - 11ms/step - accuracy: 0.9925 - loss: 0.0260 - val_accuracy: 0.9738 - val_loss: 0.0838\n",
      "Epoch 10/10\n",
      "844/844 - 10s - 12ms/step - accuracy: 0.9936 - loss: 0.0223 - val_accuracy: 0.9755 - val_loss: 0.0833\n",
      "\u001b[1m313/313\u001b[0m \u001b[32m━━━━━━━━━━━━━━━━━━━━\u001b[0m\u001b[37m\u001b[0m \u001b[1m0s\u001b[0m 1ms/step\n",
      "Baseline Test Accuracy: 0.9742\n"
     ]
    }
   ],
   "source": [
    "import numpy as np, os\n",
    "from tensorflow import keras\n",
    "from tensorflow.keras import Sequential\n",
    "from tensorflow.keras.layers import Flatten, Dense\n",
    "from sklearn.metrics import accuracy_score\n",
    "\n",
    "# Load saved data\n",
    "save_dir = os.path.expanduser(\"~/data\")\n",
    "X_train = np.load(os.path.join(save_dir, 'x_train.npy')).astype('float32') / 255.0\n",
    "y_train = np.load(os.path.join(save_dir, 'y_train.npy'))\n",
    "X_test  = np.load(os.path.join(save_dir, 'x_test.npy')).astype('float32')  / 255.0\n",
    "y_test  = np.load(os.path.join(save_dir, 'y_test.npy'))\n",
    "\n",
    "\n",
    "X_train = X_train.reshape((-1, 28, 28))\n",
    "X_test  = X_test.reshape((-1, 28, 28))\n",
    "\n",
    "# Split off 10% of training as validation\n",
    "val_split = int(0.1 * len(X_train))\n",
    "X_val, y_val = X_train[:val_split], y_train[:val_split]\n",
    "X_tr,  y_tr  = X_train[val_split:], y_train[val_split:]\n",
    "\n",
    "\n",
    "baseline = Sequential([\n",
    "    Flatten(input_shape=(28,28)),\n",
    "    Dense(128, activation='relu'),\n",
    "    Dense(10, activation='softmax')\n",
    "])\n",
    "baseline.compile(\n",
    "    optimizer='adam',\n",
    "    loss='sparse_categorical_crossentropy',\n",
    "    metrics=['accuracy']\n",
    ")\n",
    "# Train for 10 epochs\n",
    "baseline_hist = baseline.fit(\n",
    "    X_tr, y_tr,\n",
    "    validation_data=(X_val, y_val),\n",
    "    epochs=10,\n",
    "    batch_size=64,\n",
    "    verbose=2\n",
    ")\n",
    "\n",
    "# Evaluate on test set\n",
    "preds = baseline.predict(X_test).argmax(axis=1)\n",
    "test_acc = accuracy_score(y_test, preds)\n",
    "print(f\"Baseline Test Accuracy: {test_acc:.4f}\")"
   ]
  },
  {
   "cell_type": "code",
   "execution_count": null,
   "metadata": {},
   "outputs": [
    {
     "name": "stdout",
     "output_type": "stream",
     "text": [
      "Trial 5 Complete [00h 03m 27s]\n",
      "val_accuracy: 0.9941666722297668\n",
      "\n",
      "Best val_accuracy So Far: 1.0\n",
      "Total elapsed time: 00h 15m 47s\n",
      "Epoch 1/20\n"
     ]
    },
    {
     "name": "stderr",
     "output_type": "stream",
     "text": [
      "/Users/anaconda3/envs/aml/lib/python3.12/site-packages/keras/src/saving/saving_lib.py:757: UserWarning: Skipping variable loading for optimizer 'rmsprop', because it has 2 variables whereas the saved optimizer has 6 variables. \n",
      "  saveable.load_own_variables(weights_store.get(inner_path))\n"
     ]
    },
    {
     "name": "stdout",
     "output_type": "stream",
     "text": [
      "938/938 - 8s - 9ms/step - accuracy: 0.9998 - loss: 0.0016 - val_accuracy: 0.9997 - val_loss: 0.0016\n",
      "Epoch 2/20\n",
      "938/938 - 8s - 9ms/step - accuracy: 0.9998 - loss: 0.0014 - val_accuracy: 1.0000 - val_loss: 9.7706e-04\n",
      "Epoch 3/20\n",
      "938/938 - 8s - 8ms/step - accuracy: 0.9998 - loss: 0.0010 - val_accuracy: 0.9998 - val_loss: 9.0995e-04\n",
      "Epoch 4/20\n",
      "938/938 - 8s - 9ms/step - accuracy: 0.9999 - loss: 7.9990e-04 - val_accuracy: 0.9998 - val_loss: 5.2368e-04\n",
      "Epoch 5/20\n",
      "938/938 - 8s - 9ms/step - accuracy: 0.9999 - loss: 5.6522e-04 - val_accuracy: 0.9998 - val_loss: 5.7589e-04\n",
      "Epoch 6/20\n",
      "938/938 - 8s - 9ms/step - accuracy: 0.9999 - loss: 4.2350e-04 - val_accuracy: 1.0000 - val_loss: 2.5605e-04\n",
      "Epoch 7/20\n",
      "938/938 - 8s - 9ms/step - accuracy: 1.0000 - loss: 3.0161e-04 - val_accuracy: 1.0000 - val_loss: 2.8890e-04\n",
      "Epoch 8/20\n",
      "938/938 - 8s - 9ms/step - accuracy: 1.0000 - loss: 2.5922e-04 - val_accuracy: 1.0000 - val_loss: 2.1215e-04\n",
      "Epoch 9/20\n",
      "938/938 - 8s - 9ms/step - accuracy: 1.0000 - loss: 1.9668e-04 - val_accuracy: 1.0000 - val_loss: 1.3148e-04\n",
      "Epoch 10/20\n",
      "938/938 - 8s - 9ms/step - accuracy: 1.0000 - loss: 1.5263e-04 - val_accuracy: 1.0000 - val_loss: 1.2195e-04\n",
      "Epoch 11/20\n",
      "938/938 - 8s - 9ms/step - accuracy: 1.0000 - loss: 1.3477e-04 - val_accuracy: 1.0000 - val_loss: 9.9301e-05\n",
      "Epoch 12/20\n",
      "938/938 - 8s - 8ms/step - accuracy: 1.0000 - loss: 1.2335e-04 - val_accuracy: 1.0000 - val_loss: 1.0576e-04\n",
      "Epoch 13/20\n",
      "938/938 - 9s - 10ms/step - accuracy: 1.0000 - loss: 1.0789e-04 - val_accuracy: 1.0000 - val_loss: 8.6675e-05\n",
      "Epoch 14/20\n",
      "938/938 - 8s - 9ms/step - accuracy: 1.0000 - loss: 9.6497e-05 - val_accuracy: 1.0000 - val_loss: 8.9096e-05\n",
      "Epoch 15/20\n",
      "938/938 - 8s - 9ms/step - accuracy: 1.0000 - loss: 8.9221e-05 - val_accuracy: 1.0000 - val_loss: 7.8661e-05\n",
      "Epoch 16/20\n",
      "938/938 - 8s - 9ms/step - accuracy: 1.0000 - loss: 8.3173e-05 - val_accuracy: 1.0000 - val_loss: 6.7828e-05\n",
      "Epoch 17/20\n",
      "938/938 - 8s - 9ms/step - accuracy: 1.0000 - loss: 7.8388e-05 - val_accuracy: 1.0000 - val_loss: 6.3752e-05\n",
      "Epoch 18/20\n",
      "938/938 - 8s - 8ms/step - accuracy: 1.0000 - loss: 7.2955e-05 - val_accuracy: 1.0000 - val_loss: 6.2572e-05\n",
      "Epoch 19/20\n",
      "938/938 - 8s - 8ms/step - accuracy: 1.0000 - loss: 6.8753e-05 - val_accuracy: 1.0000 - val_loss: 5.6228e-05\n",
      "Epoch 20/20\n",
      "938/938 - 8s - 8ms/step - accuracy: 1.0000 - loss: 6.4746e-05 - val_accuracy: 1.0000 - val_loss: 5.7385e-05\n",
      "\u001b[1m313/313\u001b[0m \u001b[32m━━━━━━━━━━━━━━━━━━━━\u001b[0m\u001b[37m\u001b[0m \u001b[1m0s\u001b[0m 1ms/step\n"
     ]
    }
   ],
   "source": [
    "import kerastuner as kt\n",
    "import time\n",
    "from sklearn.metrics import f1_score, confusion_matrix\n",
    "\n",
    "# Define builder\n",
    "\n",
    "def build_model(hp):\n",
    "    model = keras.Sequential()\n",
    "    model.add(keras.layers.Flatten(input_shape=(28,28)))\n",
    "    for i in range(hp.Int('n_layers', 1, 3)):\n",
    "        units = hp.Choice(f'units_{i}', [128,256,512])\n",
    "        act = hp.Choice('activation', ['relu','elu','leaky_relu'])\n",
    "        model.add(keras.layers.Dense(units, activation=act))\n",
    "        if hp.Float('dropout', 0.0, 0.5, step=0.1) > 0:\n",
    "            model.add(keras.layers.Dropout(hp.Float('dropout', 0.0, 0.5, step=0.1)))\n",
    "    model.add(keras.layers.Dense(10, activation='softmax'))\n",
    "    model.compile(\n",
    "        optimizer=hp.Choice('optimizer', ['adam','rmsprop']),\n",
    "        loss='sparse_categorical_crossentropy',\n",
    "        metrics=['accuracy']\n",
    "    )\n",
    "    return model\n",
    "\n",
    "# Run tuner\n",
    "tuner = kt.RandomSearch(\n",
    "    build_model,\n",
    "    objective='val_accuracy',\n",
    "    max_trials=5,\n",
    "    directory='ann_tuner',\n",
    "    project_name='mnist_ann'\n",
    ")\n",
    "\n",
    "\n",
    "tuner.search(\n",
    "    X_train, y_train,\n",
    "    validation_data=(X_val, y_val),\n",
    "    epochs=10,\n",
    "    batch_size=64,  \n",
    "    callbacks=[keras.callbacks.EarlyStopping(patience=5, restore_best_weights=True)],\n",
    "    verbose=2\n",
    ")\n",
    "\n",
    "# Retrieve best model and metrics\n",
    "top_model = tuner.get_best_models(num_models=1)[0]\n",
    "start = time.time()\n",
    "history = top_model.fit(\n",
    "    X_train, y_train,\n",
    "    validation_data=(X_val, y_val),\n",
    "    epochs=20,\n",
    "    batch_size=64,\n",
    "    callbacks=[keras.callbacks.EarlyStopping(patience=5, restore_best_weights=True)],\n",
    "    verbose=2\n",
    ")\n",
    "train_time = time.time() - start\n",
    "\n",
    "y_preds = top_model.predict(X_test).argmax(axis=1)\n",
    "f1 = f1_score(y_test, y_preds, average='macro')\n",
    "cm = confusion_matrix(y_test, y_preds)"
   ]
  },
  {
   "cell_type": "code",
   "execution_count": 77,
   "metadata": {},
   "outputs": [
    {
     "name": "stderr",
     "output_type": "stream",
     "text": [
      "WARNING:absl:You are saving your model as an HDF5 file via `model.save()` or `keras.saving.save_model(model)`. This file format is considered legacy. We recommend using instead the native Keras format, e.g. `model.save('my_model.keras')` or `keras.saving.save_model(model, 'my_model.keras')`. \n"
     ]
    }
   ],
   "source": [
    "baseline.save(\"ann_mnist.h5\")"
   ]
  },
  {
   "cell_type": "code",
   "execution_count": 78,
   "metadata": {},
   "outputs": [
    {
     "name": "stderr",
     "output_type": "stream",
     "text": [
      "WARNING:absl:You are saving your model as an HDF5 file via `model.save()` or `keras.saving.save_model(model)`. This file format is considered legacy. We recommend using instead the native Keras format, e.g. `model.save('my_model.keras')` or `keras.saving.save_model(model, 'my_model.keras')`. \n"
     ]
    }
   ],
   "source": [
    "model.save(\"tuned_ann_mnist.h5\")"
   ]
  },
  {
   "cell_type": "code",
   "execution_count": null,
   "metadata": {},
   "outputs": [
    {
     "name": "stderr",
     "output_type": "stream",
     "text": [
      "WARNING:absl:Compiled the loaded model, but the compiled metrics have yet to be built. `model.compile_metrics` will be empty until you train or evaluate the model.\n"
     ]
    },
    {
     "name": "stdout",
     "output_type": "stream",
     "text": [
      "* Running on local URL:  http://127.0.0.1:7871\n",
      "\n",
      "To create a public link, set `share=True` in `launch()`.\n"
     ]
    },
    {
     "data": {
      "text/html": [
       "<div><iframe src=\"http://127.0.0.1:7871/\" width=\"100%\" height=\"500\" allow=\"autoplay; camera; microphone; clipboard-read; clipboard-write;\" frameborder=\"0\" allowfullscreen></iframe></div>"
      ],
      "text/plain": [
       "<IPython.core.display.HTML object>"
      ]
     },
     "metadata": {},
     "output_type": "display_data"
    },
    {
     "name": "stderr",
     "output_type": "stream",
     "text": [
      "/Users/anaconda3/envs/aml/lib/python3.12/site-packages/tensorflow/python/data/ops/structured_function.py:258: UserWarning: Even though the `tf.config.experimental_run_functions_eagerly` option is set, this option does not apply to tf.data functions. To force eager execution of tf.data functions, please use `tf.data.experimental.enable_debug_mode()`.\n",
      "  warnings.warn(\n",
      "/Users/anaconda3/envs/aml/lib/python3.12/site-packages/gradio/blocks.py:1855: UserWarning: A function returned too many output values (needed: 3, returned: 4). Ignoring extra values.\n",
      "    Output components:\n",
      "        [label, label, plot]\n",
      "    Output values returned:\n",
      "        [0, {'0': 0.9999992847442627, '9': 3.6765044342246256e-07, '5': 3.548435358879942e-07}, Figure(600x300), [array([[[255, 255, 255, 255],\n",
      "        [255, 255, 255, 255],\n",
      "        [255, 255, 255, 255],\n",
      "        ...,\n",
      "        [255, 255, 255, 255],\n",
      "        [255, 255, 255, 255],\n",
      "        [255, 255, 255, 255]],\n",
      "\n",
      "       [[255, 255, 255, 255],\n",
      "        [255, 255, 255, 255],\n",
      "        [255, 255, 255, 255],\n",
      "        ...,\n",
      "        [255, 255, 255, 255],\n",
      "        [255, 255, 255, 255],\n",
      "        [255, 255, 255, 255]],\n",
      "\n",
      "       [[255, 255, 255, 255],\n",
      "        [255, 255, 255, 255],\n",
      "        [255, 255, 255, 255],\n",
      "        ...,\n",
      "        [255, 255, 255, 255],\n",
      "        [255, 255, 255, 255],\n",
      "        [255, 255, 255, 255]],\n",
      "\n",
      "       ...,\n",
      "\n",
      "       [[255, 255, 255, 255],\n",
      "        [255, 255, 255, 255],\n",
      "        [255, 255, 255, 255],\n",
      "        ...,\n",
      "        [255, 255, 255, 255],\n",
      "        [255, 255, 255, 255],\n",
      "        [255, 255, 255, 255]],\n",
      "\n",
      "       [[255, 255, 255, 255],\n",
      "        [255, 255, 255, 255],\n",
      "        [255, 255, 255, 255],\n",
      "        ...,\n",
      "        [255, 255, 255, 255],\n",
      "        [255, 255, 255, 255],\n",
      "        [255, 255, 255, 255]],\n",
      "\n",
      "       [[255, 255, 255, 255],\n",
      "        [255, 255, 255, 255],\n",
      "        [255, 255, 255, 255],\n",
      "        ...,\n",
      "        [255, 255, 255, 255],\n",
      "        [255, 255, 255, 255],\n",
      "        [255, 255, 255, 255]]], dtype=uint8)]]\n",
      "  warnings.warn(\n",
      "/Users/anaconda3/envs/aml/lib/python3.12/site-packages/gradio/blocks.py:1855: UserWarning: A function returned too many output values (needed: 3, returned: 4). Ignoring extra values.\n",
      "    Output components:\n",
      "        [label, label, plot]\n",
      "    Output values returned:\n",
      "        [6, {'6': 0.9999991655349731, '4': 8.221398957175552e-07, '5': 1.8714109373263454e-08}, Figure(600x300), [array([[[255, 255, 255, 255],\n",
      "        [255, 255, 255, 255],\n",
      "        [255, 255, 255, 255],\n",
      "        ...,\n",
      "        [255, 255, 255, 255],\n",
      "        [255, 255, 255, 255],\n",
      "        [255, 255, 255, 255]],\n",
      "\n",
      "       [[255, 255, 255, 255],\n",
      "        [255, 255, 255, 255],\n",
      "        [255, 255, 255, 255],\n",
      "        ...,\n",
      "        [255, 255, 255, 255],\n",
      "        [255, 255, 255, 255],\n",
      "        [255, 255, 255, 255]],\n",
      "\n",
      "       [[255, 255, 255, 255],\n",
      "        [255, 255, 255, 255],\n",
      "        [255, 255, 255, 255],\n",
      "        ...,\n",
      "        [255, 255, 255, 255],\n",
      "        [255, 255, 255, 255],\n",
      "        [255, 255, 255, 255]],\n",
      "\n",
      "       ...,\n",
      "\n",
      "       [[255, 255, 255, 255],\n",
      "        [255, 255, 255, 255],\n",
      "        [255, 255, 255, 255],\n",
      "        ...,\n",
      "        [255, 255, 255, 255],\n",
      "        [255, 255, 255, 255],\n",
      "        [255, 255, 255, 255]],\n",
      "\n",
      "       [[255, 255, 255, 255],\n",
      "        [255, 255, 255, 255],\n",
      "        [255, 255, 255, 255],\n",
      "        ...,\n",
      "        [255, 255, 255, 255],\n",
      "        [255, 255, 255, 255],\n",
      "        [255, 255, 255, 255]],\n",
      "\n",
      "       [[255, 255, 255, 255],\n",
      "        [255, 255, 255, 255],\n",
      "        [255, 255, 255, 255],\n",
      "        ...,\n",
      "        [255, 255, 255, 255],\n",
      "        [255, 255, 255, 255],\n",
      "        [255, 255, 255, 255]]], dtype=uint8)]]\n",
      "  warnings.warn(\n"
     ]
    }
   ],
   "source": [
    "# gradio_app.py\n",
    "import os\n",
    "import numpy as np\n",
    "import tensorflow as tf\n",
    "import gradio as gr\n",
    "import matplotlib.pyplot as plt\n",
    "\n",
    "# Load model and test data\n",
    "model = tf.keras.models.load_model(\"ann_mnist.h5\")\n",
    "save_dir = os.path.expanduser(\"~/data\")\n",
    "X_test = np.load(os.path.join(save_dir, 'x_test.npy')).reshape(-1,28,28).astype('float32')/255.0\n",
    "y_test = np.load(os.path.join(save_dir, 'y_test.npy'))\n",
    "\n",
    "def predict(img, idx):\n",
    "    # img: numpy array or None\n",
    "    if img is None:\n",
    "        img_arr = X_test[int(idx)]\n",
    "        true_label = int(y_test[int(idx)])\n",
    "    else:\n",
    "        arr = img.astype('float32')\n",
    "        \n",
    "        if arr.ndim == 3:\n",
    "            arr = arr.mean(axis=2)\n",
    "        img_arr = tf.image.resize_with_pad(arr[..., None], 28, 28).numpy().squeeze()\n",
    "        true_label = None\n",
    "    # Prediction\n",
    "    probs = model.predict(img_arr.reshape(1,28,28), verbose=0)[0]\n",
    "    pred = int(np.argmax(probs))\n",
    "    # Visualization: image + bar chart\n",
    "    fig, axes = plt.subplots(1, 2, figsize=(6, 3))\n",
    "    axes[0].imshow(img_arr, cmap='gray'); axes[0].axis('off')\n",
    "    title = f\"Pred→{pred}\"\n",
    "    if true_label is not None:\n",
    "        title += f\" (True:{true_label})\"\n",
    "    axes[0].set_title(title)\n",
    "    axes[1].bar(range(10), probs)\n",
    "    axes[1].set_xticks(range(10)); axes[1].set_ylim(0,1)\n",
    "    axes[1].set_title(\"Class probabilities\")\n",
    "    plt.tight_layout()\n",
    "    top3 = {str(i): float(probs[i]) for i in np.argsort(probs)[-3:][::-1]}\n",
    "    return pred, top3, fig\n",
    "\n",
    "with gr.Blocks() as demo:\n",
    "    gr.Markdown(\"## MNIST Digit Classifier\")\n",
    "    with gr.Row():\n",
    "        img_input = gr.Image(type='numpy', label='Upload a digit (28×28)')\n",
    "        idx_slider = gr.Slider(0, len(X_test)-1, value=0, step=1, label='Or pick test sample')\n",
    "    pred_out = gr.Label(label='Predicted Digit')\n",
    "    probs_out = gr.Label(num_top_classes=3, label='Top‑3 Probabilities')\n",
    "    vis_out   = gr.Plot(label='Visualization')\n",
    "\n",
    "    img_input.change(lambda img, idx: predict(img, idx), [img_input, idx_slider], [pred_out, probs_out, vis_out])\n",
    "    idx_slider.change(lambda img, idx: predict(img, idx), [img_input, idx_slider], [pred_out, probs_out, vis_out])\n",
    "\n",
    "if __name__ == '__main__':\n",
    "    demo.launch()"
   ]
  }
 ],
 "metadata": {
  "kernelspec": {
   "display_name": "aml",
   "language": "python",
   "name": "python3"
  },
  "language_info": {
   "codemirror_mode": {
    "name": "ipython",
    "version": 3
   },
   "file_extension": ".py",
   "mimetype": "text/x-python",
   "name": "python",
   "nbconvert_exporter": "python",
   "pygments_lexer": "ipython3",
   "version": "3.12.8"
  }
 },
 "nbformat": 4,
 "nbformat_minor": 2
}
