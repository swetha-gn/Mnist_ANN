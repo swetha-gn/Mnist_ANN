{
 "cells": [
  {
   "cell_type": "code",
   "execution_count": 1,
   "metadata": {},
   "outputs": [
    {
     "name": "stderr",
     "output_type": "stream",
     "text": [
      "WARNING:absl:Compiled the loaded model, but the compiled metrics have yet to be built. `model.compile_metrics` will be empty until you train or evaluate the model.\n"
     ]
    },
    {
     "name": "stdout",
     "output_type": "stream",
     "text": [
      "* Running on local URL:  http://127.0.0.1:7860\n",
      "\n",
      "To create a public link, set `share=True` in `launch()`.\n"
     ]
    },
    {
     "data": {
      "text/html": [
       "<div><iframe src=\"http://127.0.0.1:7860/\" width=\"100%\" height=\"500\" allow=\"autoplay; camera; microphone; clipboard-read; clipboard-write;\" frameborder=\"0\" allowfullscreen></iframe></div>"
      ],
      "text/plain": [
       "<IPython.core.display.HTML object>"
      ]
     },
     "metadata": {},
     "output_type": "display_data"
    }
   ],
   "source": [
    "# gradio_app.py\n",
    "import os\n",
    "import numpy as np\n",
    "import tensorflow as tf\n",
    "import gradio as gr\n",
    "import matplotlib.pyplot as plt\n",
    "\n",
    "# Load model and test data\n",
    "model = tf.keras.models.load_model(\"ann_mnist.h5\")\n",
    "save_dir = os.path.expanduser(\"~/data\")\n",
    "X_test = np.load(os.path.join(save_dir, 'x_test.npy')).reshape(-1,28,28).astype('float32')/255.0\n",
    "y_test = np.load(os.path.join(save_dir, 'y_test.npy'))\n",
    "\n",
    "def predict(img, idx):\n",
    "    # img: numpy array or None\n",
    "    if img is None:\n",
    "        img_arr = X_test[int(idx)]\n",
    "        true_label = int(y_test[int(idx)])\n",
    "    else:\n",
    "        arr = img.astype('float32')\n",
    "        # if RGB, convert to grayscale\n",
    "        if arr.ndim == 3:\n",
    "            arr = arr.mean(axis=2)\n",
    "        img_arr = tf.image.resize_with_pad(arr[..., None], 28, 28).numpy().squeeze()\n",
    "        true_label = None\n",
    "    # Prediction\n",
    "    probs = model.predict(img_arr.reshape(1,28,28), verbose=0)[0]\n",
    "    pred = int(np.argmax(probs))\n",
    "    # Visualization: image + bar chart\n",
    "    fig, axes = plt.subplots(1, 2, figsize=(6, 3))\n",
    "    axes[0].imshow(img_arr, cmap='gray'); axes[0].axis('off')\n",
    "    title = f\"Pred→{pred}\"\n",
    "    if true_label is not None:\n",
    "        title += f\" (True:{true_label})\"\n",
    "    axes[0].set_title(title)\n",
    "    axes[1].bar(range(10), probs)\n",
    "    axes[1].set_xticks(range(10)); axes[1].set_ylim(0,1)\n",
    "    axes[1].set_title(\"Class probabilities\")\n",
    "    plt.tight_layout()\n",
    "    top3 = {str(i): float(probs[i]) for i in np.argsort(probs)[-3:][::-1]}\n",
    "    return pred, top3, fig\n",
    "\n",
    "with gr.Blocks() as demo:\n",
    "    gr.Markdown(\"## MNIST Digit Classifier\")\n",
    "    with gr.Row():\n",
    "        img_input = gr.Image(type='numpy', label='Upload a digit (28×28)')\n",
    "        idx_slider = gr.Slider(0, len(X_test)-1, value=0, step=1, label='Or pick test sample')\n",
    "    pred_out = gr.Label(label='Predicted Digit')\n",
    "    probs_out = gr.Label(num_top_classes=3, label='Top‑3 Probabilities')\n",
    "    vis_out   = gr.Plot(label='Visualization')\n",
    "\n",
    "    img_input.change(lambda img, idx: predict(img, idx), [img_input, idx_slider], [pred_out, probs_out, vis_out])\n",
    "    idx_slider.change(lambda img, idx: predict(img, idx), [img_input, idx_slider], [pred_out, probs_out, vis_out])\n",
    "\n",
    "if __name__ == '__main__':\n",
    "    demo.launch()"
   ]
  },
  {
   "cell_type": "code",
   "execution_count": null,
   "metadata": {},
   "outputs": [
    {
     "name": "stderr",
     "output_type": "stream",
     "text": [
      "WARNING:absl:Compiled the loaded model, but the compiled metrics have yet to be built. `model.compile_metrics` will be empty until you train or evaluate the model.\n"
     ]
    },
    {
     "name": "stdout",
     "output_type": "stream",
     "text": [
      "\u001b[1m313/313\u001b[0m \u001b[32m━━━━━━━━━━━━━━━━━━━━\u001b[0m\u001b[37m\u001b[0m \u001b[1m0s\u001b[0m 407us/step\n",
      "\n",
      "Test Accuracy: 0.9742\n",
      "\n",
      "Classification Report:\n",
      "\n",
      "              precision    recall  f1-score   support\n",
      "\n",
      "           0     0.9837    0.9878    0.9857       980\n",
      "           1     0.9885    0.9868    0.9877      1135\n",
      "           2     0.9814    0.9690    0.9751      1032\n",
      "           3     0.9800    0.9703    0.9751      1010\n",
      "           4     0.9669    0.9817    0.9742       982\n",
      "           5     0.9512    0.9843    0.9675       892\n",
      "           6     0.9820    0.9676    0.9748       958\n",
      "           7     0.9898    0.9446    0.9667      1028\n",
      "           8     0.9653    0.9713    0.9683       974\n",
      "           9     0.9509    0.9792    0.9648      1009\n",
      "\n",
      "    accuracy                         0.9742     10000\n",
      "   macro avg     0.9740    0.9742    0.9740     10000\n",
      "weighted avg     0.9745    0.9742    0.9742     10000\n",
      "\n"
     ]
    },
    {
     "data": {
      "text/plain": [
       "<Figure size 640x480 with 2 Axes>"
      ]
     },
     "metadata": {},
     "output_type": "display_data"
    }
   ],
   "source": [
    "import os\n",
    "import numpy as np\n",
    "import tensorflow as tf\n",
    "from sklearn.metrics import confusion_matrix, ConfusionMatrixDisplay, classification_report, accuracy_score\n",
    "import matplotlib.pyplot as plt\n",
    "\n",
    "#  Load model and test data \n",
    "model = tf.keras.models.load_model(\"tuned_ann_mnist.h5\")\n",
    "save_dir = os.path.expanduser(\"~/data\")\n",
    "X_test = np.load(os.path.join(save_dir, 'x_test.npy')).reshape(-1, 28, 28).astype('float32') / 255.0\n",
    "y_test = np.load(os.path.join(save_dir, 'y_test.npy'))\n",
    "\n",
    "#  Run model predictions \n",
    "y_pred_probs = model.predict(X_test, verbose=1)\n",
    "y_pred = np.argmax(y_pred_probs, axis=1)\n",
    "\n",
    "#  Accuracy and Classification Report \n",
    "accuracy = accuracy_score(y_test, y_pred)\n",
    "print(f\"\\nTest Accuracy: {accuracy:.4f}\\n\")\n",
    "print(\"Classification Report:\\n\")\n",
    "print(classification_report(y_test, y_pred, digits=4))\n",
    "\n",
    "#  Confusion Matrix \n",
    "cm = confusion_matrix(y_test, y_pred)\n",
    "disp = ConfusionMatrixDisplay(confusion_matrix=cm, display_labels=np.arange(10))\n",
    "disp.plot(cmap='Blues', values_format='d')\n",
    "plt.title(\"Confusion Matrix: ANN MNIST Classifier\")\n",
    "plt.show()\n"
   ]
  }
 ],
 "metadata": {
  "kernelspec": {
   "display_name": "aml",
   "language": "python",
   "name": "python3"
  },
  "language_info": {
   "codemirror_mode": {
    "name": "ipython",
    "version": 3
   },
   "file_extension": ".py",
   "mimetype": "text/x-python",
   "name": "python",
   "nbconvert_exporter": "python",
   "pygments_lexer": "ipython3",
   "version": "3.12.8"
  }
 },
 "nbformat": 4,
 "nbformat_minor": 2
}
